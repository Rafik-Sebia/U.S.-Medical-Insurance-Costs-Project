{
 "cells": [
  {
   "cell_type": "markdown",
   "metadata": {},
   "source": [
    "# U.S. Medical Insurance Costs"
   ]
  },
  {
   "cell_type": "markdown",
   "metadata": {},
   "source": [
    "For this project, we will be investigating a medical insurance costs dataset in a .csv file using fundamental Python skills."
   ]
  },
  {
   "cell_type": "markdown",
   "metadata": {},
   "source": [
    "In the beginning we will import the Data, starting with importang the csv library necessary and organise the different columns into lists, after that we would be to get aquainted with the data and also do some analysis on it"
   ]
  },
  {
   "cell_type": "markdown",
   "metadata": {},
   "source": [
    "##### Importing the Data:"
   ]
  },
  {
   "cell_type": "code",
   "execution_count": 6,
   "metadata": {},
   "outputs": [],
   "source": [
    "# Importing the csv library\n",
    "\n",
    "import csv\n",
    "\n",
    "# Creating the variables\n",
    "\n",
    "insurance_age = []\n",
    "insurance_sex = []\n",
    "insurance_bmi = []\n",
    "insurance_children = []\n",
    "insurance_smoker = []\n",
    "insurance_region = []\n",
    "insurance_costs = []\n",
    "\n",
    "# Opening the csv file\n",
    "\n",
    "with open(\"insurance.csv\", newline='') as insurance_csv:\n",
    "    fieldnames = [\"age\", \"sex\", \"bmi\", \"children\", \"smoker\", \"region\", \"charges\"]\n",
    "    insurance_csv = csv.DictReader(insurance_csv)\n",
    "    \n",
    "# Saving the data into lists\n",
    "    for row in insurance_csv:\n",
    "        insurance_age.append(int(row[\"age\"]))\n",
    "        insurance_sex.append((row[\"sex\"]))\n",
    "        insurance_bmi.append(float(row[\"bmi\"]))\n",
    "        insurance_children.append(int(row[\"children\"]))\n",
    "        insurance_smoker.append(row[\"smoker\"])\n",
    "        insurance_region.append(row[\"region\"])\n",
    "        insurance_costs.append(float(row[\"charges\"]))\n",
    "        "
   ]
  },
  {
   "cell_type": "markdown",
   "metadata": {},
   "source": [
    "Now that we have all the Data imported and put neatly into lists, the goals are:\n",
    "* Finding out the average age of the patients in the dataset.\n",
    "* Analyzing where a majority of the individuals are from.\n",
    "* Looking at the different costs between smokers vs. non-smokers.\n",
    "* Figuring out what the average age is for someone who has at least one child in this dataset.\n",
    "* Organizing the patients information into a dictionary"
   ]
  },
  {
   "cell_type": "markdown",
   "metadata": {},
   "source": [
    "To do this we will create diffent functions that will help us with the analysis"
   ]
  },
  {
   "cell_type": "markdown",
   "metadata": {},
   "source": [
    "##### 1 - The average age of the patients in the dataset"
   ]
  },
  {
   "cell_type": "code",
   "execution_count": 2,
   "metadata": {},
   "outputs": [
    {
     "name": "stdout",
     "output_type": "stream",
     "text": [
      "The average age of the patients is 39 years.\n"
     ]
    }
   ],
   "source": [
    "# creating the function that gives us the average age of the patients\n",
    "def func_average_age(age):\n",
    "    return round((sum(age) / len(age)))\n",
    "    \n",
    "# printing the average age of the patients\n",
    "print(\"The average age of the patients is {} years.\".format(func_average_age(insurance_age)))"
   ]
  },
  {
   "cell_type": "markdown",
   "metadata": {},
   "source": [
    "the average age is 39 knowing that it goes from 18 to 61 which means that the dataset containts a broad age range between the patient which helps us get a more accurate representation and also helps us make better analysis."
   ]
  },
  {
   "cell_type": "markdown",
   "metadata": {},
   "source": [
    "##### 2 - Analyzing where the majority of the patients are from"
   ]
  },
  {
   "cell_type": "code",
   "execution_count": 3,
   "metadata": {},
   "outputs": [
    {
     "name": "stdout",
     "output_type": "stream",
     "text": [
      "There are 324 patient coming from the southwest, and 363 coming from the southeast, also 324 coming from the northwest and lastly 323 coming from the northeast.\n",
      "So the majority of the patients are from the 363.\n"
     ]
    }
   ],
   "source": [
    "# creating a function that gives us where the majority of the patients are from\n",
    "def func_patient_region(region):\n",
    "    \n",
    "    # finding the regions\n",
    "    regions = []\n",
    "    for i in region:\n",
    "        if i not in regions:\n",
    "            regions.append(i)\n",
    "\n",
    "    #counting the patients from each region\n",
    "    region_count = {}\n",
    "    for i in regions:\n",
    "        counter = 0\n",
    "        region_count[i] = []\n",
    "        for y in region:\n",
    "            if i == y:\n",
    "                region_count[i] = counter\n",
    "                counter += 1\n",
    "    print(\"There are {} patient coming from the {}, and {} coming from the {}, also {} coming from the {} and lastly {} coming from the {}.\".format(region_count['southwest'], regions[0], region_count['southeast'], regions[1], region_count['northwest'], regions[2], region_count['northeast'], regions[3],))\n",
    "    print(\"So the majority of the patients are from the {}.\".format(region_count['southeast'], regions[1]))\n",
    "\n",
    "func_patient_region(insurance_region)"
   ]
  },
  {
   "cell_type": "markdown",
   "metadata": {},
   "source": [
    "we can see that the patients are equally distribuited from all the 4 corners of the US, with a slight bump in their numbers coming from the Southwest region a little more than the other regions."
   ]
  },
  {
   "cell_type": "markdown",
   "metadata": {},
   "source": [
    "##### 3 - Costs difference between smokers and non-smokers"
   ]
  },
  {
   "cell_type": "code",
   "execution_count": 15,
   "metadata": {},
   "outputs": [
    {
     "name": "stdout",
     "output_type": "stream",
     "text": [
      "There are 274 smoker patient and their average cost of a smoker patient is 32050.23, however we have 1063 non-smoking patient and the average cost of a non_smoker patient is 8440.66.\n",
      "The smoking patient on average has a much higher cost than that of a non-smoking one.\n"
     ]
    }
   ],
   "source": [
    " # creating the function that gives us the cost difference between smokers and non-smokers\n",
    "def smoker_cost_diff(costs, smoker):\n",
    "\n",
    "    smoker_cost = {key:value for key, value in zip(costs, smoker)}\n",
    "    \n",
    "    smoker_total_cost = 0\n",
    "    non_smoker_total_cost = 0\n",
    "    for key, value in smoker_cost.items():\n",
    "        if value == \"yes\":\n",
    "            smoker_total_cost += key\n",
    "        else:\n",
    "            non_smoker_total_cost += key\n",
    "\n",
    "    smoker_count = 0\n",
    "    non_smoker_count = 0\n",
    "    for value in smoker_cost.values():\n",
    "        if value == \"yes\":\n",
    "            smoker_count += 1\n",
    "        else:\n",
    "            non_smoker_count += 1\n",
    "\n",
    "    average_smoker = smoker_total_cost / smoker_count\n",
    "    average_non_smoker = non_smoker_total_cost / non_smoker_count\n",
    "\n",
    "    print(\"There are {} smoker patient and their average cost of a smoker patient is {}, however we have {} non-smoking patient and the average cost of a non_smoker patient is {}.\".format(smoker_count, round(average_smoker, 2),non_smoker_count, round(average_non_smoker, 2)))\n",
    "    print(\"The smoking patient on average has a much higher cost than that of a non-smoking one.\")\n",
    "\n",
    "smoker_cost_diff(insurance_costs, insurance_smoker)"
   ]
  },
  {
   "cell_type": "markdown",
   "metadata": {},
   "source": [
    "Since the average cost of smokers is highly than the non-smoking knowing that their number is much lower means that their cost is obscenely higher, but it would've been better if the Dataset contained similair numbers of smokers and non-smokers as that would be a much more accurate representation."
   ]
  },
  {
   "cell_type": "markdown",
   "metadata": {},
   "source": [
    "##### 4 - The average age of a patient with at least one child"
   ]
  },
  {
   "cell_type": "code",
   "execution_count": 5,
   "metadata": {},
   "outputs": [
    {
     "name": "stdout",
     "output_type": "stream",
     "text": [
      "The average age of patients with at least one child is 40 years.\n"
     ]
    }
   ],
   "source": [
    "#creating the function that gives us the average age of a patient with at least one child\n",
    "def avg_age_with_child(children, age):\n",
    "    children_age = list(zip(children, age))\n",
    "    one_child_age_list = []\n",
    "    average_age_with_one_child = 0\n",
    "\n",
    "    for i in range(len(children_age)):\n",
    "        if children_age[i][0] > 0:\n",
    "            one_child_age_list.append(children_age[i][1])\n",
    "    \n",
    "    average_age_with_one_child = sum(one_child_age_list) / len(one_child_age_list)\n",
    "    print(\"The average age of patients with at least one child is {} years.\".format(round(average_age_with_one_child)))\n",
    "            \n",
    "    #print(one_child_age_list)\n",
    "avg_age_with_child(insurance_children, insurance_age)"
   ]
  },
  {
   "cell_type": "markdown",
   "metadata": {},
   "source": [
    "Again we see that even with the patients with at least one child, we are getting a broad average age that helps us make a more accurate analysis on this dataset."
   ]
  },
  {
   "cell_type": "markdown",
   "metadata": {},
   "source": [
    "##### 5 - Creating a dictionary that containts all patient information"
   ]
  },
  {
   "cell_type": "code",
   "execution_count": 13,
   "metadata": {},
   "outputs": [],
   "source": [
    "# creating the function that gives us the dictionary that contains all the patient information\n",
    "def patients_info(age, sex, bmi, children, smoker, region, costs):\n",
    "    patients_dictionary = {}\n",
    "    patients_dictionary[\"age\"] = age\n",
    "    patients_dictionary[\"sex\"] = sex\n",
    "    patients_dictionary[\"bmi\"] = bmi\n",
    "    patients_dictionary[\"children\"] = children\n",
    "    patients_dictionary[\"smoker\"] = smoker\n",
    "    patients_dictionary[\"region\"] = region\n",
    "    patients_dictionary[\"costs\"] = costs\n",
    "    return patients_dictionary\n",
    "\n",
    "#print(patients_info(insurance_age, insurance_sex, insurance_bmi, insurance_children, insurance_smoker, insurance_region, insurance_costs))"
   ]
  },
  {
   "cell_type": "markdown",
   "metadata": {},
   "source": [
    "All the information about the patients are organized into a dictionary, so if we need to make more analysis on the data, we can use this dictionary for conveniece without having to acces the csv file."
   ]
  }
 ],
 "metadata": {
  "kernelspec": {
   "display_name": "Python 3.9.12 ('base')",
   "language": "python",
   "name": "python3"
  },
  "language_info": {
   "codemirror_mode": {
    "name": "ipython",
    "version": 3
   },
   "file_extension": ".py",
   "mimetype": "text/x-python",
   "name": "python",
   "nbconvert_exporter": "python",
   "pygments_lexer": "ipython3",
   "version": "3.9.12"
  },
  "vscode": {
   "interpreter": {
    "hash": "3383907eb521f077d61ac60bdb58edc654d12aff0585d2dbcdb412ac3dd7a820"
   }
  }
 },
 "nbformat": 4,
 "nbformat_minor": 4
}
